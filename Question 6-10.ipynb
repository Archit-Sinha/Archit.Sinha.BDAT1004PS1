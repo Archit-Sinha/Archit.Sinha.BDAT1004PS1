{
 "cells": [
  {
   "cell_type": "markdown",
   "id": "2435cb55",
   "metadata": {},
   "source": [
    "# Question 6 "
   ]
  },
  {
   "cell_type": "code",
   "execution_count": 1,
   "id": "a1b6c964",
   "metadata": {},
   "outputs": [],
   "source": [
    "def pig(word):\n",
    "    word = word.lower()\n",
    "    if word[0] == \"a\" or word[0] == \"e\" or word[0] == \"i\" or word[0] == \"o\" or word[0] == \"u\":\n",
    "        word = word + \"way\"\n",
    "        word = word.lower()\n",
    "        return word\n",
    "    else:\n",
    "        length = len(word)\n",
    "        word = word[1:length] + word[0] + \"ay\"\n",
    "        return word"
   ]
  },
  {
   "cell_type": "code",
   "execution_count": 2,
   "id": "4a80fc99",
   "metadata": {},
   "outputs": [
    {
     "data": {
      "text/plain": [
       "'appyhay'"
      ]
     },
     "execution_count": 2,
     "metadata": {},
     "output_type": "execute_result"
    }
   ],
   "source": [
    "pig(\"happy\")"
   ]
  },
  {
   "cell_type": "code",
   "execution_count": 3,
   "id": "41a267f7",
   "metadata": {},
   "outputs": [
    {
     "data": {
      "text/plain": [
       "'encilpay'"
      ]
     },
     "execution_count": 3,
     "metadata": {},
     "output_type": "execute_result"
    }
   ],
   "source": [
    "pig(\"pencil\")"
   ]
  },
  {
   "cell_type": "code",
   "execution_count": 4,
   "id": "cdb2f96a",
   "metadata": {},
   "outputs": [
    {
     "data": {
      "text/plain": [
       "'enterway'"
      ]
     },
     "execution_count": 4,
     "metadata": {},
     "output_type": "execute_result"
    }
   ],
   "source": [
    "pig(\"Enter\")"
   ]
  },
  {
   "cell_type": "markdown",
   "id": "1543b8a8",
   "metadata": {},
   "source": [
    "# Question 7"
   ]
  },
  {
   "cell_type": "code",
   "execution_count": 5,
   "id": "f0ca9c5e",
   "metadata": {},
   "outputs": [],
   "source": [
    "def bldcount(file_name):\n",
    "    file = open(file_name)\n",
    "    o = file.read()\n",
    "    o.strip()\n",
    "    return o\n",
    "    "
   ]
  },
  {
   "cell_type": "code",
   "execution_count": 6,
   "id": "d9cf8667",
   "metadata": {},
   "outputs": [],
   "source": [
    "def bldcount(file_name):\n",
    "    file = open(file_name)\n",
    "    blood_typ = file.read()\n",
    "    blood_typ = blood_typ.strip()\n",
    "    blood_typ = blood_typ.split()\n",
    "    \n",
    "    count_A = 0\n",
    "    count_B = 0\n",
    "    count_AB = 0\n",
    "    count_O = 0\n",
    "    count_OO = 0\n",
    "    \n",
    "    for i in blood_typ:    \n",
    "        if i == \"A\":\n",
    "            count_A = count_A + 1\n",
    "        if i == \"B\":\n",
    "            count_B = count_B + 1\n",
    "        if i == \"AB\":\n",
    "            count_AB = count_AB + 1\n",
    "        if i == \"O\":\n",
    "            count_O = count_O + 1\n",
    "        if i == \"OO\":\n",
    "            count_O = count_OO + 1\n",
    "    \n",
    "    if count_A > 0:\n",
    "        print(\"There are\", count_A, \"patients of blood type A\")\n",
    "    else:\n",
    "        print(\"There are no patients of blood type A\")\n",
    "    \n",
    "    if count_B > 0:\n",
    "        print(\"There are\", count_B, \"patients of blood type B\")\n",
    "    else:\n",
    "        print(\"There are no patients of blood type B\")\n",
    "    \n",
    "    if count_AB > 0:\n",
    "        print(\"There are\", count_AB, \"patients of blood type AB\")\n",
    "    else:\n",
    "        print(\"There are no patients of blood type AB\")\n",
    "    \n",
    "    if count_O > 0:\n",
    "        print(\"There are\", count_O, \"patients of blood type O\")\n",
    "    else:\n",
    "        print(\"There are no patients of blood type O\")\n",
    "    \n",
    "    if count_OO > 0:\n",
    "        print(\"There are\", count_OO, \"patients of blood type OO\")\n",
    "    else:\n",
    "        print(\"There are no patients of blood type OO\")"
   ]
  },
  {
   "cell_type": "code",
   "execution_count": 7,
   "id": "8fceddf5",
   "metadata": {},
   "outputs": [
    {
     "name": "stdout",
     "output_type": "stream",
     "text": [
      "There are 15 patients of blood type A\n",
      "There are 1 patients of blood type B\n",
      "There are 13 patients of blood type AB\n",
      "There are 15 patients of blood type O\n",
      "There are no patients of blood type OO\n"
     ]
    }
   ],
   "source": [
    "bldcount(\"bloodtype1.txt\")"
   ]
  },
  {
   "cell_type": "markdown",
   "id": "bd4e4092",
   "metadata": {},
   "source": [
    "# Question 8"
   ]
  },
  {
   "cell_type": "code",
   "execution_count": 8,
   "id": "336d2f83",
   "metadata": {},
   "outputs": [],
   "source": [
    "def curconv(code, amount):\n",
    "    file = open(\"currencies.txt\")\n",
    "    curr = file.read()\n",
    "    curr.split(\"\\n\")\n",
    "\n",
    "    curr_list = []\n",
    "\n",
    "    for i in curr.split(\"\\n\"):\n",
    "        line = i.split(\"\\t\")\n",
    "        curr_list.append(line)\n",
    "    \n",
    "    for i in range(len(curr_list)):\n",
    "        if code == curr_list[i][0]:\n",
    "            conv_rate = float(curr_list[i][1])\n",
    "            amount_in_USD = amount * conv_rate\n",
    "            \n",
    "    return amount_in_USD\n"
   ]
  },
  {
   "cell_type": "code",
   "execution_count": 9,
   "id": "8ef11d87",
   "metadata": {},
   "outputs": [
    {
     "data": {
      "text/plain": [
       "122.96544"
      ]
     },
     "execution_count": 9,
     "metadata": {},
     "output_type": "execute_result"
    }
   ],
   "source": [
    "curconv(\"EUR\", 100)"
   ]
  },
  {
   "cell_type": "code",
   "execution_count": 10,
   "id": "3f51338f",
   "metadata": {},
   "outputs": [
    {
     "data": {
      "text/plain": [
       "1.241401"
      ]
     },
     "execution_count": 10,
     "metadata": {},
     "output_type": "execute_result"
    }
   ],
   "source": [
    "curconv(\"JPY\", 100)"
   ]
  },
  {
   "cell_type": "markdown",
   "id": "b9c2d6ef",
   "metadata": {},
   "source": [
    "# Question 9"
   ]
  },
  {
   "cell_type": "markdown",
   "id": "73338736",
   "metadata": {},
   "source": [
    "### Trying to add incompatible variables, as in adding 6 + ‘a’\n",
    "TypeError: unsupported operand type(s) for +: 'int' and 'str'\n",
    "\n",
    "### Referring to the 12th item of a list that has only 10 items\n",
    "IndexError: list index out of range\n",
    "\n",
    "### Using a value that is out of range for a function’s input, such as calling math.sqrt(-1.0)\n",
    "ValueError: math domain error\n",
    "\n",
    "### Using an undeclared variable, such as print(x) when x has not been defined\n",
    "NameError: name 'x' is not defined\n",
    "\n",
    "### Trying to open a file that does not exist, such as mistyping the file name or looking in the wrong directory.\n",
    "FileNotFoundError: [Errno 2] No such file or directory: 'nofile.txt'"
   ]
  },
  {
   "cell_type": "markdown",
   "id": "69bccf70",
   "metadata": {},
   "source": [
    "# Question 10"
   ]
  },
  {
   "cell_type": "code",
   "execution_count": 11,
   "id": "ebad3b29",
   "metadata": {},
   "outputs": [],
   "source": [
    "def frequencies(text):\n",
    "    text = text.lower()\n",
    "    text = text.replace(\" \",\"\")\n",
    "\n",
    "    letters = [\"a\",\"b\",\"c\",\"d\",\"e\",\"f\",\"g\",\"h\",\"i\",\"j\",\"k\",\"l\",\"m\",\"n\",\"o\",\"p\",\"q\",\"r\",\"s\",\"t\",\"u\",\"v\",\"w\",\"x\",\"y\",\"z\"]\n",
    "\n",
    "    letter_count = {}\n",
    "\n",
    "    for char in letters:\n",
    "        letter_count[char] = 0\n",
    "\n",
    "    for char in text:\n",
    "        if char in letters:\n",
    "            letter_count[char] = letter_count[char] + 1\n",
    "    \n",
    "    out = []\n",
    "    for i in letter_count.values():\n",
    "        out.append(i)\n",
    "        \n",
    "    return out"
   ]
  },
  {
   "cell_type": "code",
   "execution_count": 12,
   "id": "357ade73",
   "metadata": {},
   "outputs": [
    {
     "data": {
      "text/plain": [
       "[1, 1, 1, 3, 5, 1, 1, 2, 1, 0, 1, 0, 1, 2, 4, 0, 1, 2, 0, 3, 1, 0, 1, 1, 0, 0]"
      ]
     },
     "execution_count": 12,
     "metadata": {},
     "output_type": "execute_result"
    }
   ],
   "source": [
    "frequencies(\"The quick red fox got bored and went home.\")"
   ]
  },
  {
   "cell_type": "code",
   "execution_count": 13,
   "id": "0ca12b5b",
   "metadata": {},
   "outputs": [
    {
     "data": {
      "text/plain": [
       "[1, 0, 0, 0, 1, 0, 0, 0, 0, 0, 0, 1, 0, 0, 0, 2, 0, 0, 0, 0, 0, 0, 0, 0, 0, 0]"
      ]
     },
     "execution_count": 13,
     "metadata": {},
     "output_type": "execute_result"
    }
   ],
   "source": [
    "frequencies(\"apple\")"
   ]
  },
  {
   "cell_type": "code",
   "execution_count": null,
   "id": "198d3194",
   "metadata": {},
   "outputs": [],
   "source": []
  }
 ],
 "metadata": {
  "kernelspec": {
   "display_name": "Python 3 (ipykernel)",
   "language": "python",
   "name": "python3"
  },
  "language_info": {
   "codemirror_mode": {
    "name": "ipython",
    "version": 3
   },
   "file_extension": ".py",
   "mimetype": "text/x-python",
   "name": "python",
   "nbconvert_exporter": "python",
   "pygments_lexer": "ipython3",
   "version": "3.9.7"
  }
 },
 "nbformat": 4,
 "nbformat_minor": 5
}
