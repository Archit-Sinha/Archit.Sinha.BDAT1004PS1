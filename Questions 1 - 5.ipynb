{
 "cells": [
  {
   "cell_type": "markdown",
   "id": "eec5a35c",
   "metadata": {},
   "source": [
    "# Question 1"
   ]
  },
  {
   "cell_type": "markdown",
   "id": "02a0cc54",
   "metadata": {},
   "source": [
    "#### 5 \n",
    "Integer\n",
    "\n",
    "#### 5.0 \n",
    "Float\n",
    "\n",
    "#### 5 > 1\n",
    "Boolean\n",
    "\n",
    "#### '5'\n",
    "Character\n",
    "\n",
    "#### 5 * 2\n",
    "Integer\n",
    "#### '5' * 2\n",
    "Character\n",
    "\n",
    "#### '5' + '2'\n",
    "Character\n",
    "\n",
    "#### 5 / 2\n",
    "Float\n",
    "\n",
    "#### 5 % 2\n",
    "Integer\n",
    "\n",
    "#### {5, 2, 1}\n",
    "Array\n",
    "\n",
    "#### 5 == 3\n",
    "Boolean\n",
    "\n",
    "#### Pi\n",
    "Float"
   ]
  },
  {
   "cell_type": "markdown",
   "id": "b0c4e1dd",
   "metadata": {},
   "source": [
    "# Question 2\n",
    "\n",
    "### a)"
   ]
  },
  {
   "cell_type": "code",
   "execution_count": 1,
   "id": "dcf22353",
   "metadata": {},
   "outputs": [
    {
     "name": "stdout",
     "output_type": "stream",
     "text": [
      "34\r\n"
     ]
    }
   ],
   "source": [
    "string s1 = \"Supercalifragilisticexpialidocious\";\n",
    "int len1 = s1.Length;\n",
    "Console.WriteLine(len1);"
   ]
  },
  {
   "cell_type": "markdown",
   "id": "ef846af1",
   "metadata": {},
   "source": [
    "### b)"
   ]
  },
  {
   "cell_type": "code",
   "execution_count": 2,
   "id": "0a9508ce",
   "metadata": {},
   "outputs": [
    {
     "name": "stdout",
     "output_type": "stream",
     "text": [
      "True\r\n"
     ]
    }
   ],
   "source": [
    "Console.WriteLine(s1.Contains(\"ice\"));"
   ]
  },
  {
   "cell_type": "markdown",
   "id": "ea4358d5",
   "metadata": {},
   "source": [
    "### c)"
   ]
  },
  {
   "cell_type": "code",
   "execution_count": 3,
   "id": "c34c89e4",
   "metadata": {},
   "outputs": [
    {
     "name": "stdout",
     "output_type": "stream",
     "text": [
      "34\n",
      "27\n",
      "34\n"
     ]
    }
   ],
   "source": [
    "string s2 = \"Honorificabilitudinitatibus\";\n",
    "string s3 = \"Bababadalgharaghtakamminarronnkonn\";\n",
    "int len2 = s2.Length;\n",
    "int len3 = s3.Length;\n",
    "\n",
    "Console.WriteLine(len1);\n",
    "Console.WriteLine(len2);\n",
    "Console.WriteLine(len3);"
   ]
  },
  {
   "cell_type": "markdown",
   "id": "ae997f1d",
   "metadata": {},
   "source": [
    "String \"Supercalifragilisticexpialidocious\" and \"Bababadalgharaghtakamminarronnkonn\" are the longest each having a length of 34 characters."
   ]
  },
  {
   "cell_type": "markdown",
   "id": "0cd32c46",
   "metadata": {},
   "source": [
    "### d)"
   ]
  },
  {
   "cell_type": "code",
   "execution_count": 4,
   "id": "e097f9cb",
   "metadata": {},
   "outputs": [
    {
     "name": "stdout",
     "output_type": "stream",
     "text": [
      "Bartok\n",
      "Bellini\n",
      "Berlioz\n",
      "Bernstein\n",
      "Borodin\n",
      "Brian\n",
      "Buxetehude\n"
     ]
    }
   ],
   "source": [
    "var composers = new SortedSet<string>();\n",
    "    composers.Add(\"Berlioz\");\n",
    "    composers.Add(\"Borodin\");\n",
    "    composers.Add(\"Brian\");\n",
    "    composers.Add(\"Bartok\");\n",
    "    composers.Add(\"Bellini\");\n",
    "    composers.Add(\"Buxetehude\");\n",
    "    composers.Add(\"Bernstein\");\n",
    "\n",
    "foreach (var composer in composers)\n",
    "    {\n",
    "    Console.WriteLine(composer);\n",
    "    }"
   ]
  },
  {
   "cell_type": "markdown",
   "id": "3a86bb33",
   "metadata": {},
   "source": [
    "The first composer to come in the dictionary is \"Bartok\" and the last is \"Buxetehude\"."
   ]
  },
  {
   "cell_type": "markdown",
   "id": "8206c5c9",
   "metadata": {},
   "source": [
    "# Question 3"
   ]
  },
  {
   "cell_type": "code",
   "execution_count": 5,
   "id": "88c960ce",
   "metadata": {},
   "outputs": [],
   "source": [
    "public void triangleArea(int a,  int b, int c)\n",
    "    {\n",
    "    double s = (a+b+c)/2;\n",
    "    double area = Math.Sqrt(s*(s-a)*(s-b)*(s-c));\n",
    "    Console.WriteLine(area);\n",
    "    }"
   ]
  },
  {
   "cell_type": "code",
   "execution_count": 6,
   "id": "b6004913",
   "metadata": {},
   "outputs": [
    {
     "name": "stdout",
     "output_type": "stream",
     "text": [
      "1.7320508075688772\r\n"
     ]
    }
   ],
   "source": [
    "triangleArea(2,2,2);"
   ]
  },
  {
   "cell_type": "markdown",
   "id": "f6d10c23",
   "metadata": {},
   "source": [
    "# Question 4"
   ]
  },
  {
   "cell_type": "code",
   "execution_count": 7,
   "id": "01ea05cd",
   "metadata": {},
   "outputs": [
    {
     "name": "stdout",
     "output_type": "stream",
     "text": [
      "The Even Elements are:\n",
      "42 56 32 \n",
      "The Odd Elements are:\n",
      "25 47 "
     ]
    }
   ],
   "source": [
    "int[] arr = new int[5];\n",
    "    arr[0] = 25;\n",
    "    arr[1] = 47;\n",
    "    arr[2] = 42;\n",
    "    arr[3] = 56;\n",
    "    arr[4] = 32;\n",
    "\n",
    "int[] even_number = new int[5];\n",
    "int[] odd_number = new int[5];\n",
    "\n",
    "\n",
    "int i=0;\n",
    "int j=0;\n",
    "\n",
    "foreach (int element in arr)\n",
    "    {\n",
    "    if (element % 2 == 0)\n",
    "    {\n",
    "        even_number[i] = element;\n",
    "        i++;\n",
    "        \n",
    "    }\n",
    "    else\n",
    "    {\n",
    "        odd_number[j] = element;\n",
    "        j++;\n",
    "    }\n",
    "    }\n",
    "    \n",
    "System.Array.Resize(ref even_number, i);\n",
    "System.Array.Resize(ref odd_number, j);\n",
    "Console.WriteLine(\"The Even Elements are:\");\n",
    "foreach (int element in even_number)\n",
    "    {\n",
    "    Console.Write(\"{0} \",element);\n",
    "    }\n",
    "    \n",
    "Console.WriteLine(\"\\nThe Odd Elements are:\");\n",
    "foreach (int element in odd_number)\n",
    "    {\n",
    "    Console.Write(\"{0} \",element);\n",
    "    }"
   ]
  },
  {
   "cell_type": "markdown",
   "id": "19e44929",
   "metadata": {},
   "source": [
    "# Question 5\n",
    "\n",
    "### a)"
   ]
  },
  {
   "cell_type": "code",
   "execution_count": 8,
   "id": "5a81fc65",
   "metadata": {},
   "outputs": [],
   "source": [
    "public bool inside(double x, double y, double x1, double y1, double x2, double y2)\n",
    "    {\n",
    "    if (x >= x1 && x <= x2 && y >= y1 && y <= y2)\n",
    "    {\n",
    "        return true;\n",
    "    }\n",
    "    else\n",
    "    {\n",
    "        return false;\n",
    "    }\n",
    "    }"
   ]
  },
  {
   "cell_type": "code",
   "execution_count": 9,
   "id": "9fceca3b",
   "metadata": {},
   "outputs": [
    {
     "data": {
      "text/plain": [
       "True"
      ]
     },
     "execution_count": 9,
     "metadata": {},
     "output_type": "execute_result"
    }
   ],
   "source": [
    "inside(1,1,0,0,2,3)"
   ]
  },
  {
   "cell_type": "code",
   "execution_count": 10,
   "id": "8ad59a43",
   "metadata": {},
   "outputs": [
    {
     "data": {
      "text/plain": [
       "False"
      ]
     },
     "execution_count": 10,
     "metadata": {},
     "output_type": "execute_result"
    }
   ],
   "source": [
    "inside(-1,-1,0,0,2,3)"
   ]
  },
  {
   "cell_type": "markdown",
   "id": "758a9d5c",
   "metadata": {},
   "source": [
    "### b) "
   ]
  },
  {
   "cell_type": "code",
   "execution_count": 11,
   "id": "459c895d",
   "metadata": {},
   "outputs": [
    {
     "data": {
      "text/plain": [
       "False"
      ]
     },
     "execution_count": 11,
     "metadata": {},
     "output_type": "execute_result"
    }
   ],
   "source": [
    "inside(1,1,0.3,0.5,1.1,0.7)"
   ]
  },
  {
   "cell_type": "code",
   "execution_count": 12,
   "id": "661b1a5b",
   "metadata": {},
   "outputs": [
    {
     "data": {
      "text/plain": [
       "True"
      ]
     },
     "execution_count": 12,
     "metadata": {},
     "output_type": "execute_result"
    }
   ],
   "source": [
    "inside(1,1,0.5,0.2,1.1,2)"
   ]
  },
  {
   "cell_type": "code",
   "execution_count": null,
   "id": "ff10a52a",
   "metadata": {},
   "outputs": [],
   "source": []
  }
 ],
 "metadata": {
  "kernelspec": {
   "display_name": ".NET (C#)",
   "language": "C#",
   "name": ".net-csharp"
  },
  "language_info": {
   "file_extension": ".cs",
   "mimetype": "text/x-csharp",
   "name": "C#",
   "pygments_lexer": "csharp",
   "version": "8.0"
  }
 },
 "nbformat": 4,
 "nbformat_minor": 5
}
